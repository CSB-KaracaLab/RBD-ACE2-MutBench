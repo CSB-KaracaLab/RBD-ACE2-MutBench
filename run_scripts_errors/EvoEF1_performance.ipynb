{
 "cells": [
  {
   "cell_type": "code",
   "execution_count": null,
   "metadata": {},
   "outputs": [],
   "source": [
    "import pathlib\n",
    "import pandas as pd\n",
    "import numpy as np\n",
    "\n",
    "rootdir = pathlib.Path('.').resolve(strict=True)\n",
    "datadir = rootdir.parents [1] / 'ace2-rbd-point-mutation-benchmark/files/input_files' # githuba koyup analizleri yaptığımız dosyalar\n",
    "outputdir = rootdir.parents [1] / 'ace2-rbd-point-mutation-benchmark/files/output_files'\n",
    "newfiles = rootdir.parents [1] / 'ace2-rbd-point-mutation-benchmark/run_scripts_errors/files' # yeni ürettiğimiz scorelar\n",
    "\n",
    "# import dataset\n",
    "ACE2 = pd.read_csv(datadir / 'ACE2_Experimental_dataset.csv', delimiter=',')\n",
    "ACE2.columns=['#case_id','exp_binding']\n",
    "#create protein column to represent which case belong which protein \n",
    "ACE2['protein'] = \"ACE2\"\n",
    "\n",
    "RBD = pd.read_csv(datadir / 'RBD_Experimental_dataset.csv', delimiter=',')\n",
    "RBD = RBD[['#case_id', 'RBD_bind_avg']]\n",
    "RBD.columns=['#case_id','exp_binding']\n",
    "RBD['protein'] = \"RBD\"\n",
    "\n",
    "# concatanate ACE2 and RBD dataset to build experimental dataset of our study\n",
    "Experimental_dataset = pd.concat([ACE2,RBD])\n",
    "# setting case id as an index is necessary for joining datasets in an accurate order to the next level\n",
    "Experimental_dataset=Experimental_dataset.set_index('#case_id')"
   ]
  }
 ],
 "metadata": {
  "kernelspec": {
   "display_name": "Python 3",
   "language": "python",
   "name": "python3"
  },
  "language_info": {
   "codemirror_mode": {
    "name": "ipython",
    "version": 3
   },
   "file_extension": ".py",
   "mimetype": "text/x-python",
   "name": "python",
   "nbconvert_exporter": "python",
   "pygments_lexer": "ipython3",
   "version": "3.8.5"
  }
 },
 "nbformat": 4,
 "nbformat_minor": 4
}
